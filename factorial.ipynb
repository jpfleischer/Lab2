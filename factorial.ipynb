inputNumber = input('Please enter any number to find its factorial')
