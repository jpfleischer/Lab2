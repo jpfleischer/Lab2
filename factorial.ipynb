{
 "metadata": {
  "language_info": {
   "codemirror_mode": {
    "name": "ipython",
    "version": 3
   },
   "file_extension": ".py",
   "mimetype": "text/x-python",
   "name": "python",
   "nbconvert_exporter": "python",
   "pygments_lexer": "ipython3",
   "version": "3.9.5"
  },
  "orig_nbformat": 4,
  "kernelspec": {
   "name": "python3",
   "display_name": "Python 3.9.5 64-bit"
  },
  "interpreter": {
   "hash": "11fc141419a455748615588ca451337eaec63d1d64c3783b2264b902ed0c7821"
  }
 },
 "nbformat": 4,
 "nbformat_minor": 2,
 "cells": [
  {
   "cell_type": "code",
   "execution_count": 14,
   "metadata": {},
   "outputs": [
    {
     "output_type": "stream",
     "name": "stdout",
     "text": [
      "You cannot enter a negative number\n1\n"
     ]
    }
   ],
   "source": [
    "inputNumber = int(input('Please enter any number to find its factorial'))\n",
    "factorial =  1\n",
    "if inputNumber < 0:\n",
    "    print('You cannot enter a negative number')\n",
    "\n",
    "for x in range(1, inputNumber + 1):\n",
    "    factorial = factorial*x\n",
    "print(factorial)    "
   ]
  },
  {
   "cell_type": "code",
   "execution_count": null,
   "metadata": {},
   "outputs": [],
   "source": []
  }
 ]
}