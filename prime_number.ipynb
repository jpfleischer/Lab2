{
 "metadata": {
  "language_info": {
   "codemirror_mode": {
    "name": "ipython",
    "version": 3
   },
   "file_extension": ".py",
   "mimetype": "text/x-python",
   "name": "python",
   "nbconvert_exporter": "python",
   "pygments_lexer": "ipython3",
   "version": "3.8.5"
  },
  "orig_nbformat": 4,
  "kernelspec": {
   "name": "python3",
   "display_name": "Python 3.8.5 64-bit"
  },
  "interpreter": {
   "hash": "2db524e06e9f5f4ffedc911c917cb75e12dbc923643829bf417064a77eb14d37"
  }
 },
 "nbformat": 4,
 "nbformat_minor": 2,
 "cells": [
  {
   "cell_type": "code",
   "execution_count": 57,
   "metadata": {},
   "outputs": [
    {
     "output_type": "stream",
     "name": "stdout",
     "text": [
      "2 is prime.\n3 is prime.\n5 is prime.\n7 is prime.\n"
     ]
    }
   ],
   "source": [
    "inputNumber = int(input('Please enter any number to find prime numbers up to that number'))\n",
    "if inputNumber <2:\n",
    "    print('You cannot enter a number that is less than 2')\n",
    "for i in range(2,inputNumber+1):\n",
    "    if i>1:\n",
    "        for j in range(2,i):\n",
    "            if((i%j)==False):\n",
    "                break\n",
    "        else:\n",
    "            print(i,'is prime.')"
   ]
  },
  {
   "cell_type": "code",
   "execution_count": null,
   "metadata": {},
   "outputs": [],
   "source": []
  }
 ]
}